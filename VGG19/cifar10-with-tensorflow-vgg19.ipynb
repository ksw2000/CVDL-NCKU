{
 "cells": [
  {
   "cell_type": "code",
   "execution_count": 1,
   "id": "279f207a",
   "metadata": {
    "_cell_guid": "b1076dfc-b9ad-4769-8c92-a6c4dae69d19",
    "_uuid": "8f2839f25d086af736a60e9eeb907d3b93b6e0e5",
    "execution": {
     "iopub.execute_input": "2022-10-24T08:58:57.878954Z",
     "iopub.status.busy": "2022-10-24T08:58:57.877811Z",
     "iopub.status.idle": "2022-10-24T08:59:02.257988Z",
     "shell.execute_reply": "2022-10-24T08:59:02.257023Z"
    },
    "papermill": {
     "duration": 4.389091,
     "end_time": "2022-10-24T08:59:02.260468",
     "exception": false,
     "start_time": "2022-10-24T08:58:57.871377",
     "status": "completed"
    },
    "tags": []
   },
   "outputs": [],
   "source": [
    "import tensorflow as tf\n",
    "import matplotlib.pyplot as plt"
   ]
  },
  {
   "cell_type": "code",
   "execution_count": 2,
   "id": "9e1b473b",
   "metadata": {
    "execution": {
     "iopub.execute_input": "2022-10-24T08:59:02.266479Z",
     "iopub.status.busy": "2022-10-24T08:59:02.265991Z",
     "iopub.status.idle": "2022-10-24T08:59:16.163154Z",
     "shell.execute_reply": "2022-10-24T08:59:16.162190Z"
    },
    "papermill": {
     "duration": 13.903647,
     "end_time": "2022-10-24T08:59:16.166543",
     "exception": false,
     "start_time": "2022-10-24T08:59:02.262896",
     "status": "completed"
    },
    "tags": []
   },
   "outputs": [
    {
     "name": "stdout",
     "output_type": "stream",
     "text": [
      "Downloading data from https://www.cs.toronto.edu/~kriz/cifar-10-python.tar.gz\n",
      "170500096/170498071 [==============================] - 7s 0us/step\n",
      "170508288/170498071 [==============================] - 7s 0us/step\n"
     ]
    },
    {
     "name": "stderr",
     "output_type": "stream",
     "text": [
      "2022-10-24 08:59:12.269060: I tensorflow/stream_executor/cuda/cuda_gpu_executor.cc:937] successful NUMA node read from SysFS had negative value (-1), but there must be at least one NUMA node, so returning NUMA node zero\n",
      "2022-10-24 08:59:12.396347: I tensorflow/stream_executor/cuda/cuda_gpu_executor.cc:937] successful NUMA node read from SysFS had negative value (-1), but there must be at least one NUMA node, so returning NUMA node zero\n",
      "2022-10-24 08:59:12.397491: I tensorflow/stream_executor/cuda/cuda_gpu_executor.cc:937] successful NUMA node read from SysFS had negative value (-1), but there must be at least one NUMA node, so returning NUMA node zero\n",
      "2022-10-24 08:59:12.400485: I tensorflow/core/platform/cpu_feature_guard.cc:142] This TensorFlow binary is optimized with oneAPI Deep Neural Network Library (oneDNN) to use the following CPU instructions in performance-critical operations:  AVX2 AVX512F FMA\n",
      "To enable them in other operations, rebuild TensorFlow with the appropriate compiler flags.\n",
      "2022-10-24 08:59:12.400931: I tensorflow/stream_executor/cuda/cuda_gpu_executor.cc:937] successful NUMA node read from SysFS had negative value (-1), but there must be at least one NUMA node, so returning NUMA node zero\n",
      "2022-10-24 08:59:12.405695: I tensorflow/stream_executor/cuda/cuda_gpu_executor.cc:937] successful NUMA node read from SysFS had negative value (-1), but there must be at least one NUMA node, so returning NUMA node zero\n",
      "2022-10-24 08:59:12.406408: I tensorflow/stream_executor/cuda/cuda_gpu_executor.cc:937] successful NUMA node read from SysFS had negative value (-1), but there must be at least one NUMA node, so returning NUMA node zero\n",
      "2022-10-24 08:59:14.685952: I tensorflow/stream_executor/cuda/cuda_gpu_executor.cc:937] successful NUMA node read from SysFS had negative value (-1), but there must be at least one NUMA node, so returning NUMA node zero\n",
      "2022-10-24 08:59:14.686853: I tensorflow/stream_executor/cuda/cuda_gpu_executor.cc:937] successful NUMA node read from SysFS had negative value (-1), but there must be at least one NUMA node, so returning NUMA node zero\n",
      "2022-10-24 08:59:14.687567: I tensorflow/stream_executor/cuda/cuda_gpu_executor.cc:937] successful NUMA node read from SysFS had negative value (-1), but there must be at least one NUMA node, so returning NUMA node zero\n",
      "2022-10-24 08:59:14.688263: I tensorflow/core/common_runtime/gpu/gpu_device.cc:1510] Created device /job:localhost/replica:0/task:0/device:GPU:0 with 15401 MB memory:  -> device: 0, name: Tesla P100-PCIE-16GB, pci bus id: 0000:00:04.0, compute capability: 6.0\n"
     ]
    },
    {
     "name": "stdout",
     "output_type": "stream",
     "text": [
      "Downloading data from https://storage.googleapis.com/tensorflow/keras-applications/vgg19/vgg19_weights_tf_dim_ordering_tf_kernels_notop.h5\n",
      "80142336/80134624 [==============================] - 0s 0us/step\n",
      "80150528/80134624 [==============================] - 0s 0us/step\n",
      "Model: \"sequential\"\n",
      "_________________________________________________________________\n",
      "Layer (type)                 Output Shape              Param #   \n",
      "=================================================================\n",
      "block1_conv1 (Conv2D)        (None, 32, 32, 64)        1792      \n",
      "_________________________________________________________________\n",
      "block1_conv2 (Conv2D)        (None, 32, 32, 64)        36928     \n",
      "_________________________________________________________________\n",
      "block1_pool (MaxPooling2D)   (None, 16, 16, 64)        0         \n",
      "_________________________________________________________________\n",
      "block2_conv1 (Conv2D)        (None, 16, 16, 128)       73856     \n",
      "_________________________________________________________________\n",
      "block2_conv2 (Conv2D)        (None, 16, 16, 128)       147584    \n",
      "_________________________________________________________________\n",
      "block2_pool (MaxPooling2D)   (None, 8, 8, 128)         0         \n",
      "_________________________________________________________________\n",
      "block3_conv1 (Conv2D)        (None, 8, 8, 256)         295168    \n",
      "_________________________________________________________________\n",
      "block3_conv2 (Conv2D)        (None, 8, 8, 256)         590080    \n",
      "_________________________________________________________________\n",
      "block3_conv3 (Conv2D)        (None, 8, 8, 256)         590080    \n",
      "_________________________________________________________________\n",
      "block3_conv4 (Conv2D)        (None, 8, 8, 256)         590080    \n",
      "_________________________________________________________________\n",
      "block3_pool (MaxPooling2D)   (None, 4, 4, 256)         0         \n",
      "_________________________________________________________________\n",
      "block4_conv1 (Conv2D)        (None, 4, 4, 512)         1180160   \n",
      "_________________________________________________________________\n",
      "block4_conv2 (Conv2D)        (None, 4, 4, 512)         2359808   \n",
      "_________________________________________________________________\n",
      "block4_conv3 (Conv2D)        (None, 4, 4, 512)         2359808   \n",
      "_________________________________________________________________\n",
      "block4_conv4 (Conv2D)        (None, 4, 4, 512)         2359808   \n",
      "_________________________________________________________________\n",
      "block4_pool (MaxPooling2D)   (None, 2, 2, 512)         0         \n",
      "_________________________________________________________________\n",
      "block5_conv1 (Conv2D)        (None, 2, 2, 512)         2359808   \n",
      "_________________________________________________________________\n",
      "block5_conv2 (Conv2D)        (None, 2, 2, 512)         2359808   \n",
      "_________________________________________________________________\n",
      "block5_conv3 (Conv2D)        (None, 2, 2, 512)         2359808   \n",
      "_________________________________________________________________\n",
      "block5_conv4 (Conv2D)        (None, 2, 2, 512)         2359808   \n",
      "_________________________________________________________________\n",
      "block5_pool (MaxPooling2D)   (None, 1, 1, 512)         0         \n",
      "_________________________________________________________________\n",
      "global_average_pooling2d (Gl (None, 512)               0         \n",
      "_________________________________________________________________\n",
      "dense (Dense)                (None, 10)                5130      \n",
      "=================================================================\n",
      "Total params: 20,029,514\n",
      "Trainable params: 20,029,514\n",
      "Non-trainable params: 0\n",
      "_________________________________________________________________\n"
     ]
    }
   ],
   "source": [
    "# load dataset\n",
    "(x_train, y_train), (x_test, y_test) = tf.keras.datasets.cifar10.load_data()\n",
    "\n",
    "model = tf.keras.Sequential()\n",
    "for layer in tf.keras.applications.VGG19(include_top = False, input_shape=(32,32,3)).layers:\n",
    "    model.add(layer)\n",
    "\n",
    "#for layer in model.layers:\n",
    "#    layer.trainable = False\n",
    "\n",
    "model.add(tf.keras.layers.GlobalAveragePooling2D())\n",
    "model.add(tf.keras.layers.Dense(10,activation=\"softmax\"))\n",
    "\n",
    "model.summary()"
   ]
  },
  {
   "cell_type": "code",
   "execution_count": 3,
   "id": "18be1a5a",
   "metadata": {
    "execution": {
     "iopub.execute_input": "2022-10-24T08:59:16.186122Z",
     "iopub.status.busy": "2022-10-24T08:59:16.185829Z",
     "iopub.status.idle": "2022-10-24T09:08:26.809357Z",
     "shell.execute_reply": "2022-10-24T09:08:26.808435Z"
    },
    "papermill": {
     "duration": 550.635832,
     "end_time": "2022-10-24T09:08:26.811857",
     "exception": false,
     "start_time": "2022-10-24T08:59:16.176025",
     "status": "completed"
    },
    "tags": []
   },
   "outputs": [
    {
     "name": "stderr",
     "output_type": "stream",
     "text": [
      "2022-10-24 08:59:17.066479: I tensorflow/compiler/mlir/mlir_graph_optimization_pass.cc:185] None of the MLIR Optimization Passes are enabled (registered 2)\n"
     ]
    },
    {
     "name": "stdout",
     "output_type": "stream",
     "text": [
      "Epoch 1/50\n"
     ]
    },
    {
     "name": "stderr",
     "output_type": "stream",
     "text": [
      "2022-10-24 08:59:18.945203: I tensorflow/stream_executor/cuda/cuda_dnn.cc:369] Loaded cuDNN version 8005\n"
     ]
    },
    {
     "name": "stdout",
     "output_type": "stream",
     "text": [
      "49/49 [==============================] - 27s 323ms/step - loss: 4.1470 - accuracy: 0.1283 - val_loss: 2.2470 - val_accuracy: 0.1195\n",
      "Epoch 2/50\n",
      "49/49 [==============================] - 11s 218ms/step - loss: 2.0796 - accuracy: 0.1845 - val_loss: 1.9583 - val_accuracy: 0.1901\n",
      "Epoch 3/50\n",
      "49/49 [==============================] - 11s 218ms/step - loss: 1.8993 - accuracy: 0.2207 - val_loss: 1.8525 - val_accuracy: 0.2331\n",
      "Epoch 4/50\n",
      "49/49 [==============================] - 11s 218ms/step - loss: 1.8460 - accuracy: 0.2395 - val_loss: 1.8138 - val_accuracy: 0.2450\n",
      "Epoch 5/50\n",
      "49/49 [==============================] - 11s 218ms/step - loss: 1.8234 - accuracy: 0.2500 - val_loss: 1.7945 - val_accuracy: 0.2517\n",
      "Epoch 6/50\n",
      "49/49 [==============================] - 11s 217ms/step - loss: 1.7761 - accuracy: 0.2674 - val_loss: 1.7341 - val_accuracy: 0.2793\n",
      "Epoch 7/50\n",
      "49/49 [==============================] - 11s 218ms/step - loss: 1.7430 - accuracy: 0.2879 - val_loss: 1.6963 - val_accuracy: 0.3005\n",
      "Epoch 8/50\n",
      "49/49 [==============================] - 11s 218ms/step - loss: 1.7041 - accuracy: 0.3121 - val_loss: 1.6501 - val_accuracy: 0.3479\n",
      "Epoch 9/50\n",
      "49/49 [==============================] - 11s 217ms/step - loss: 1.6429 - accuracy: 0.3512 - val_loss: 1.6073 - val_accuracy: 0.3643\n",
      "Epoch 10/50\n",
      "49/49 [==============================] - 11s 217ms/step - loss: 1.5084 - accuracy: 0.4105 - val_loss: 1.5087 - val_accuracy: 0.4099\n",
      "Epoch 11/50\n",
      "49/49 [==============================] - 11s 218ms/step - loss: 1.4366 - accuracy: 0.4428 - val_loss: 1.3993 - val_accuracy: 0.4587\n",
      "Epoch 12/50\n",
      "49/49 [==============================] - 11s 217ms/step - loss: 1.3632 - accuracy: 0.4759 - val_loss: 1.3439 - val_accuracy: 0.4910\n",
      "Epoch 13/50\n",
      "49/49 [==============================] - 11s 218ms/step - loss: 1.2908 - accuracy: 0.5142 - val_loss: 1.3477 - val_accuracy: 0.5032\n",
      "Epoch 14/50\n",
      "49/49 [==============================] - 11s 218ms/step - loss: 1.2295 - accuracy: 0.5391 - val_loss: 1.3665 - val_accuracy: 0.5128\n",
      "Epoch 15/50\n",
      "49/49 [==============================] - 11s 217ms/step - loss: 1.1619 - accuracy: 0.5676 - val_loss: 1.1265 - val_accuracy: 0.5845\n",
      "Epoch 16/50\n",
      "49/49 [==============================] - 11s 218ms/step - loss: 1.0417 - accuracy: 0.6154 - val_loss: 1.1417 - val_accuracy: 0.5946\n",
      "Epoch 17/50\n",
      "49/49 [==============================] - 11s 218ms/step - loss: 0.9895 - accuracy: 0.6377 - val_loss: 0.9952 - val_accuracy: 0.6467\n",
      "Epoch 18/50\n",
      "49/49 [==============================] - 11s 217ms/step - loss: 0.9237 - accuracy: 0.6665 - val_loss: 0.9692 - val_accuracy: 0.6586\n",
      "Epoch 19/50\n",
      "49/49 [==============================] - 11s 218ms/step - loss: 0.8545 - accuracy: 0.6950 - val_loss: 0.9601 - val_accuracy: 0.6613\n",
      "Epoch 20/50\n",
      "49/49 [==============================] - 11s 218ms/step - loss: 0.8115 - accuracy: 0.7119 - val_loss: 0.9072 - val_accuracy: 0.6815\n",
      "Epoch 21/50\n",
      "49/49 [==============================] - 11s 217ms/step - loss: 0.7516 - accuracy: 0.7335 - val_loss: 0.8405 - val_accuracy: 0.7106\n",
      "Epoch 22/50\n",
      "49/49 [==============================] - 11s 218ms/step - loss: 0.6978 - accuracy: 0.7553 - val_loss: 0.8651 - val_accuracy: 0.7012\n",
      "Epoch 23/50\n",
      "49/49 [==============================] - 11s 218ms/step - loss: 0.6280 - accuracy: 0.7805 - val_loss: 0.8498 - val_accuracy: 0.7210\n",
      "Epoch 24/50\n",
      "49/49 [==============================] - 11s 217ms/step - loss: 0.5920 - accuracy: 0.7924 - val_loss: 0.8803 - val_accuracy: 0.7233\n",
      "Epoch 25/50\n",
      "49/49 [==============================] - 11s 218ms/step - loss: 0.5744 - accuracy: 0.8024 - val_loss: 0.8352 - val_accuracy: 0.7340\n",
      "Epoch 26/50\n",
      "49/49 [==============================] - 11s 218ms/step - loss: 0.5119 - accuracy: 0.8238 - val_loss: 0.7697 - val_accuracy: 0.7501\n",
      "Epoch 27/50\n",
      "49/49 [==============================] - 11s 217ms/step - loss: 0.4514 - accuracy: 0.8458 - val_loss: 0.8560 - val_accuracy: 0.7432\n",
      "Epoch 28/50\n",
      "49/49 [==============================] - 11s 218ms/step - loss: 0.4062 - accuracy: 0.8619 - val_loss: 0.8203 - val_accuracy: 0.7505\n",
      "Epoch 29/50\n",
      "49/49 [==============================] - 11s 218ms/step - loss: 0.4075 - accuracy: 0.8629 - val_loss: 0.8862 - val_accuracy: 0.7480\n",
      "Epoch 30/50\n",
      "49/49 [==============================] - 11s 218ms/step - loss: 0.3588 - accuracy: 0.8777 - val_loss: 0.8718 - val_accuracy: 0.7441\n",
      "Epoch 31/50\n",
      "49/49 [==============================] - 11s 218ms/step - loss: 0.2991 - accuracy: 0.9003 - val_loss: 0.9343 - val_accuracy: 0.7482\n",
      "Epoch 32/50\n",
      "49/49 [==============================] - 11s 218ms/step - loss: 0.2953 - accuracy: 0.9001 - val_loss: 0.9144 - val_accuracy: 0.7540\n",
      "Epoch 33/50\n",
      "49/49 [==============================] - 11s 218ms/step - loss: 0.2730 - accuracy: 0.9091 - val_loss: 0.9455 - val_accuracy: 0.7462\n",
      "Epoch 34/50\n",
      "49/49 [==============================] - 11s 218ms/step - loss: 0.2393 - accuracy: 0.9213 - val_loss: 0.8880 - val_accuracy: 0.7516\n",
      "Epoch 35/50\n",
      "49/49 [==============================] - 11s 218ms/step - loss: 0.2095 - accuracy: 0.9312 - val_loss: 0.9690 - val_accuracy: 0.7577\n",
      "Epoch 36/50\n",
      "49/49 [==============================] - 11s 218ms/step - loss: 0.1927 - accuracy: 0.9373 - val_loss: 1.0327 - val_accuracy: 0.7545\n",
      "Epoch 37/50\n",
      "49/49 [==============================] - 11s 218ms/step - loss: 0.1592 - accuracy: 0.9470 - val_loss: 1.0322 - val_accuracy: 0.7575\n",
      "Epoch 38/50\n",
      "49/49 [==============================] - 11s 217ms/step - loss: 0.1500 - accuracy: 0.9512 - val_loss: 1.0596 - val_accuracy: 0.7633\n",
      "Epoch 39/50\n",
      "49/49 [==============================] - 11s 217ms/step - loss: 0.1409 - accuracy: 0.9536 - val_loss: 1.0955 - val_accuracy: 0.7497\n",
      "Epoch 40/50\n",
      "49/49 [==============================] - 11s 218ms/step - loss: 0.1438 - accuracy: 0.9535 - val_loss: 1.0505 - val_accuracy: 0.7593\n",
      "Epoch 41/50\n",
      "49/49 [==============================] - 11s 217ms/step - loss: 0.1235 - accuracy: 0.9599 - val_loss: 1.0967 - val_accuracy: 0.7605\n",
      "Epoch 42/50\n",
      "49/49 [==============================] - 11s 217ms/step - loss: 0.1145 - accuracy: 0.9633 - val_loss: 1.1239 - val_accuracy: 0.7635\n",
      "Epoch 43/50\n",
      "49/49 [==============================] - 11s 218ms/step - loss: 0.1245 - accuracy: 0.9592 - val_loss: 1.0884 - val_accuracy: 0.7596\n",
      "Epoch 44/50\n",
      "49/49 [==============================] - 11s 218ms/step - loss: 0.1006 - accuracy: 0.9670 - val_loss: 1.1919 - val_accuracy: 0.7625\n",
      "Epoch 45/50\n",
      "49/49 [==============================] - 11s 217ms/step - loss: 0.0958 - accuracy: 0.9691 - val_loss: 1.2027 - val_accuracy: 0.7616\n",
      "Epoch 46/50\n",
      "49/49 [==============================] - 11s 217ms/step - loss: 0.0962 - accuracy: 0.9702 - val_loss: 1.3020 - val_accuracy: 0.7504\n",
      "Epoch 47/50\n",
      "49/49 [==============================] - 11s 217ms/step - loss: 0.0764 - accuracy: 0.9756 - val_loss: 1.3347 - val_accuracy: 0.7606\n",
      "Epoch 48/50\n",
      "49/49 [==============================] - 11s 217ms/step - loss: 0.0715 - accuracy: 0.9771 - val_loss: 1.3172 - val_accuracy: 0.7494\n",
      "Epoch 49/50\n",
      "49/49 [==============================] - 11s 218ms/step - loss: 0.0784 - accuracy: 0.9744 - val_loss: 1.3025 - val_accuracy: 0.7564\n",
      "Epoch 50/50\n",
      "49/49 [==============================] - 11s 217ms/step - loss: 0.0759 - accuracy: 0.9755 - val_loss: 1.2918 - val_accuracy: 0.7571\n"
     ]
    }
   ],
   "source": [
    "# train\n",
    "model.compile(optimizer='adam',loss=tf.keras.losses.SparseCategoricalCrossentropy(), metrics=['accuracy'])\n",
    "history = model.fit(x_train, y_train, epochs=50, validation_data=(x_test, y_test), batch_size=1024)"
   ]
  },
  {
   "cell_type": "code",
   "execution_count": 4,
   "id": "17d89a15",
   "metadata": {
    "execution": {
     "iopub.execute_input": "2022-10-24T09:08:27.087332Z",
     "iopub.status.busy": "2022-10-24T09:08:27.086933Z",
     "iopub.status.idle": "2022-10-24T09:08:27.320760Z",
     "shell.execute_reply": "2022-10-24T09:08:27.319867Z"
    },
    "papermill": {
     "duration": 0.373793,
     "end_time": "2022-10-24T09:08:27.322803",
     "exception": false,
     "start_time": "2022-10-24T09:08:26.949010",
     "status": "completed"
    },
    "tags": []
   },
   "outputs": [
    {
     "data": {
      "text/plain": [
       "<matplotlib.legend.Legend at 0x7fe640279450>"
      ]
     },
     "execution_count": 4,
     "metadata": {},
     "output_type": "execute_result"
    },
    {
     "data": {
      "image/png": "[encoded data removed]",
      "text/plain": [
       "<Figure size 432x288 with 1 Axes>"
      ]
     },
     "metadata": {
      "needs_background": "light"
     },
     "output_type": "display_data"
    }
   ],
   "source": [
    "plt.plot(history.history['accuracy'], label='training')\n",
    "plt.plot(history.history['val_accuracy'], label = 'testing')\n",
    "plt.xlabel('Epoch')\n",
    "plt.ylabel('Accuracy')\n",
    "plt.ylim([0, 1])\n",
    "plt.legend(loc='lower right')"
   ]
  },
  {
   "cell_type": "code",
   "execution_count": 5,
   "id": "be330008",
   "metadata": {
    "execution": {
     "iopub.execute_input": "2022-10-24T09:08:27.600203Z",
     "iopub.status.busy": "2022-10-24T09:08:27.598531Z",
     "iopub.status.idle": "2022-10-24T09:08:27.817716Z",
     "shell.execute_reply": "2022-10-24T09:08:27.816895Z"
    },
    "papermill": {
     "duration": 0.35913,
     "end_time": "2022-10-24T09:08:27.819762",
     "exception": false,
     "start_time": "2022-10-24T09:08:27.460632",
     "status": "completed"
    },
    "tags": []
   },
   "outputs": [
    {
     "data": {
      "text/plain": [
       "<matplotlib.legend.Legend at 0x7fe640313910>"
      ]
     },
     "execution_count": 5,
     "metadata": {},
     "output_type": "execute_result"
    },
    {
     "data": {
      "image/png": "[encoded data removed]",
      "text/plain": [
       "<Figure size 432x288 with 1 Axes>"
      ]
     },
     "metadata": {
      "needs_background": "light"
     },
     "output_type": "display_data"
    }
   ],
   "source": [
    "plt.plot(history.history['loss'], label='training')\n",
    "plt.plot(history.history['val_loss'], label = 'testing')\n",
    "plt.xlabel('Epoch')\n",
    "plt.ylabel('Loss')\n",
    "plt.legend(loc='upper right')"
   ]
  },
  {
   "cell_type": "code",
   "execution_count": 6,
   "id": "4d3f426c",
   "metadata": {
    "execution": {
     "iopub.execute_input": "2022-10-24T09:08:28.094241Z",
     "iopub.status.busy": "2022-10-24T09:08:28.093860Z",
     "iopub.status.idle": "2022-10-24T09:08:31.295539Z",
     "shell.execute_reply": "2022-10-24T09:08:31.294600Z"
    },
    "papermill": {
     "duration": 3.34058,
     "end_time": "2022-10-24T09:08:31.297984",
     "exception": false,
     "start_time": "2022-10-24T09:08:27.957404",
     "status": "completed"
    },
    "tags": []
   },
   "outputs": [
    {
     "name": "stderr",
     "output_type": "stream",
     "text": [
      "2022-10-24 09:08:28.854140: W tensorflow/python/util/util.cc:348] Sets are not currently considered sequences, but this may change in the future, so consider avoiding using them.\n"
     ]
    }
   ],
   "source": [
    "model.save(\"vgg19\")"
   ]
  }
 ],
 "metadata": {
  "kernelspec": {
   "display_name": "Python 3",
   "language": "python",
   "name": "python3"
  },
  "language_info": {
   "codemirror_mode": {
    "name": "ipython",
    "version": 3
   },
   "file_extension": ".py",
   "mimetype": "text/x-python",
   "name": "python",
   "nbconvert_exporter": "python",
   "pygments_lexer": "ipython3",
   "version": "3.7.12"
  },
  "papermill": {
   "default_parameters": {},
   "duration": 584.510644,
   "end_time": "2022-10-24T09:08:34.861326",
   "environment_variables": {},
   "exception": null,
   "input_path": "__notebook__.ipynb",
   "output_path": "__notebook__.ipynb",
   "parameters": {},
   "start_time": "2022-10-24T08:58:50.350682",
   "version": "2.3.4"
  }
 },
 "nbformat": 4,
 "nbformat_minor": 5
}
