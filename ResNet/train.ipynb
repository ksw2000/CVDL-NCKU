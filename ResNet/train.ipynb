{
 "cells": [
  {
   "attachments": {},
   "cell_type": "markdown",
   "id": "4cbc3e33",
   "metadata": {},
   "source": [
    "I trained the model on Kaggle\n",
    "\n",
    "https://www.kaggle.com/code/yutong0807/img-classification-with-tf-resnet50/notebook"
   ]
  },
  {
   "cell_type": "code",
   "execution_count": 1,
   "id": "22dc1a95",
   "metadata": {
    "_cell_guid": "b1076dfc-b9ad-4769-8c92-a6c4dae69d19",
    "_uuid": "8f2839f25d086af736a60e9eeb907d3b93b6e0e5",
    "execution": {
     "iopub.execute_input": "2022-12-02T04:22:59.653457Z",
     "iopub.status.busy": "2022-12-02T04:22:59.652103Z",
     "iopub.status.idle": "2022-12-02T04:23:05.574615Z",
     "shell.execute_reply": "2022-12-02T04:23:05.573613Z"
    },
    "papermill": {
     "duration": 5.935346,
     "end_time": "2022-12-02T04:23:05.577151",
     "exception": false,
     "start_time": "2022-12-02T04:22:59.641805",
     "status": "completed"
    },
    "tags": []
   },
   "outputs": [],
   "source": [
    "import tensorflow as tf\n",
    "import tensorflow_addons as tfa\n",
    "import matplotlib.pyplot as plt\n",
    "import os\n",
    "import os.path as path\n",
    "import cv2\n",
    "import numpy as np"
   ]
  },
  {
   "cell_type": "markdown",
   "id": "6a069365",
   "metadata": {
    "papermill": {
     "duration": 0.004218,
     "end_time": "2022-12-02T04:23:05.585668",
     "exception": false,
     "start_time": "2022-12-02T04:23:05.581450",
     "status": "completed"
    },
    "tags": []
   },
   "source": [
    "## Load Data"
   ]
  },
  {
   "cell_type": "code",
   "execution_count": 2,
   "id": "76f0b49e",
   "metadata": {
    "execution": {
     "iopub.execute_input": "2022-12-02T04:23:05.594779Z",
     "iopub.status.busy": "2022-12-02T04:23:05.594245Z",
     "iopub.status.idle": "2022-12-02T04:23:05.599878Z",
     "shell.execute_reply": "2022-12-02T04:23:05.598944Z"
    },
    "papermill": {
     "duration": 0.012386,
     "end_time": "2022-12-02T04:23:05.601842",
     "exception": false,
     "start_time": "2022-12-02T04:23:05.589456",
     "status": "completed"
    },
    "tags": []
   },
   "outputs": [],
   "source": [
    "import random\n",
    "def knuthShuffle(list1, list2):\n",
    "    for (i, e) in enumerate(list1):\n",
    "        j = random.randint(0, i)\n",
    "        if i != j:\n",
    "            list1[i], list1[j] = list1[j], list1[i]\n",
    "            list2[i], list2[j] = list2[j], list2[i]"
   ]
  },
  {
   "cell_type": "code",
   "execution_count": 3,
   "id": "91ceb26d",
   "metadata": {
    "execution": {
     "iopub.execute_input": "2022-12-02T04:23:05.611603Z",
     "iopub.status.busy": "2022-12-02T04:23:05.610232Z",
     "iopub.status.idle": "2022-12-02T04:23:05.619871Z",
     "shell.execute_reply": "2022-12-02T04:23:05.619046Z"
    },
    "papermill": {
     "duration": 0.016407,
     "end_time": "2022-12-02T04:23:05.621948",
     "exception": false,
     "start_time": "2022-12-02T04:23:05.605541",
     "status": "completed"
    },
    "tags": []
   },
   "outputs": [],
   "source": [
    "def loadData(folder, shuffle=False):\n",
    "    catFolder = path.join(folder, 'Cat/')\n",
    "    dogFolder = path.join(folder, 'Dog/')\n",
    "\n",
    "    catsPath = [path.join(catFolder, f) for f in os.listdir(catFolder) if path.isfile(path.join(catFolder, f))]\n",
    "    dogsPath = [path.join(dogFolder, f) for f in os.listdir(dogFolder) if path.isfile(path.join(dogFolder, f))]\n",
    "\n",
    "    cats = []\n",
    "    dogs = []\n",
    "    for cat in catsPath:\n",
    "        cat = cv2.imdecode(np.fromfile(cat, dtype=np.uint8), 1)\n",
    "        if cat is not None:\n",
    "            cat = cv2.cvtColor(cat, cv2.COLOR_BGR2RGB)\n",
    "            cat = cv2.resize(cat, (224, 224))\n",
    "            cats.append(cat)\n",
    "    \n",
    "    for dog in dogsPath:\n",
    "        dog = cv2.imdecode(np.fromfile(dog, dtype=np.uint8), 1)\n",
    "        if dog is not None:\n",
    "            dog = cv2.cvtColor(dog, cv2.COLOR_BGR2RGB)\n",
    "            dog = cv2.resize(dog, (224, 224))\n",
    "            dogs.append(dog)\n",
    "    x = cats+dogs\n",
    "    y = [0]*len(cats) + [1]*len(dogs)\n",
    "    \n",
    "    if shuffle:\n",
    "        knuthShuffle(x, y)\n",
    "        \n",
    "    return np.array(x), np.array(y, dtype=np.int8)"
   ]
  },
  {
   "cell_type": "code",
   "execution_count": 4,
   "id": "3dcfec3d",
   "metadata": {
    "execution": {
     "iopub.execute_input": "2022-12-02T04:23:05.631159Z",
     "iopub.status.busy": "2022-12-02T04:23:05.630321Z",
     "iopub.status.idle": "2022-12-02T04:25:16.825365Z",
     "shell.execute_reply": "2022-12-02T04:25:16.824327Z"
    },
    "papermill": {
     "duration": 131.202292,
     "end_time": "2022-12-02T04:25:16.827955",
     "exception": false,
     "start_time": "2022-12-02T04:23:05.625663",
     "status": "completed"
    },
    "tags": []
   },
   "outputs": [
    {
     "name": "stderr",
     "output_type": "stream",
     "text": [
      "Corrupt JPEG data: 214 extraneous bytes before marker 0xd9\n",
      "Corrupt JPEG data: 128 extraneous bytes before marker 0xd9\n",
      "Corrupt JPEG data: 228 extraneous bytes before marker 0xd9\n",
      "Corrupt JPEG data: 65 extraneous bytes before marker 0xd9\n",
      "Warning: unknown JFIF revision number 0.00\n",
      "Corrupt JPEG data: 252 extraneous bytes before marker 0xd9\n",
      "Corrupt JPEG data: 1403 extraneous bytes before marker 0xd9\n",
      "Corrupt JPEG data: 162 extraneous bytes before marker 0xd9\n",
      "Corrupt JPEG data: 2226 extraneous bytes before marker 0xd9\n"
     ]
    }
   ],
   "source": [
    "x_train, y_train = loadData('/kaggle/input/picture-of-cats-and-dogs/training_dataset', shuffle=True)\n",
    "x_test, y_test = loadData('/kaggle/input/picture-of-cats-and-dogs/validation_dataset')"
   ]
  },
  {
   "cell_type": "code",
   "execution_count": 5,
   "id": "048ba66f",
   "metadata": {
    "execution": {
     "iopub.execute_input": "2022-12-02T04:25:16.838968Z",
     "iopub.status.busy": "2022-12-02T04:25:16.838263Z",
     "iopub.status.idle": "2022-12-02T04:25:16.844345Z",
     "shell.execute_reply": "2022-12-02T04:25:16.842983Z"
    },
    "papermill": {
     "duration": 0.013697,
     "end_time": "2022-12-02T04:25:16.846460",
     "exception": false,
     "start_time": "2022-12-02T04:25:16.832763",
     "status": "completed"
    },
    "tags": []
   },
   "outputs": [
    {
     "name": "stdout",
     "output_type": "stream",
     "text": [
      "(16165, 224, 224, 3) (16165,)\n",
      "(1797, 224, 224, 3) (1797,)\n"
     ]
    }
   ],
   "source": [
    "print(x_train.shape, y_train.shape)\n",
    "print(x_test.shape, y_test.shape)"
   ]
  },
  {
   "cell_type": "markdown",
   "id": "f6d014a5",
   "metadata": {
    "papermill": {
     "duration": 0.00414,
     "end_time": "2022-12-02T04:25:16.854999",
     "exception": false,
     "start_time": "2022-12-02T04:25:16.850859",
     "status": "completed"
    },
    "tags": []
   },
   "source": [
    "## Load Model"
   ]
  },
  {
   "cell_type": "code",
   "execution_count": 6,
   "id": "80532479",
   "metadata": {
    "execution": {
     "iopub.execute_input": "2022-12-02T04:25:16.864724Z",
     "iopub.status.busy": "2022-12-02T04:25:16.864404Z",
     "iopub.status.idle": "2022-12-02T04:25:17.027830Z",
     "shell.execute_reply": "2022-12-02T04:25:17.026859Z"
    },
    "papermill": {
     "duration": 0.170643,
     "end_time": "2022-12-02T04:25:17.029824",
     "exception": false,
     "start_time": "2022-12-02T04:25:16.859181",
     "status": "completed"
    },
    "tags": []
   },
   "outputs": [
    {
     "data": {
      "text/plain": [
       "119"
      ]
     },
     "execution_count": 6,
     "metadata": {},
     "output_type": "execute_result"
    }
   ],
   "source": [
    "import gc\n",
    "gc.collect()"
   ]
  },
  {
   "cell_type": "code",
   "execution_count": 7,
   "id": "bbeafead",
   "metadata": {
    "execution": {
     "iopub.execute_input": "2022-12-02T04:25:17.040738Z",
     "iopub.status.busy": "2022-12-02T04:25:17.039852Z",
     "iopub.status.idle": "2022-12-02T04:25:21.599724Z",
     "shell.execute_reply": "2022-12-02T04:25:21.598039Z"
    },
    "papermill": {
     "duration": 4.568014,
     "end_time": "2022-12-02T04:25:21.602351",
     "exception": false,
     "start_time": "2022-12-02T04:25:17.034337",
     "status": "completed"
    },
    "tags": []
   },
   "outputs": [
    {
     "name": "stderr",
     "output_type": "stream",
     "text": [
      "2022-12-02 04:25:17.132956: I tensorflow/stream_executor/cuda/cuda_gpu_executor.cc:937] successful NUMA node read from SysFS had negative value (-1), but there must be at least one NUMA node, so returning NUMA node zero\n",
      "2022-12-02 04:25:17.234902: I tensorflow/stream_executor/cuda/cuda_gpu_executor.cc:937] successful NUMA node read from SysFS had negative value (-1), but there must be at least one NUMA node, so returning NUMA node zero\n",
      "2022-12-02 04:25:17.235755: I tensorflow/stream_executor/cuda/cuda_gpu_executor.cc:937] successful NUMA node read from SysFS had negative value (-1), but there must be at least one NUMA node, so returning NUMA node zero\n",
      "2022-12-02 04:25:17.236823: I tensorflow/core/platform/cpu_feature_guard.cc:142] This TensorFlow binary is optimized with oneAPI Deep Neural Network Library (oneDNN) to use the following CPU instructions in performance-critical operations:  AVX2 AVX512F FMA\n",
      "To enable them in other operations, rebuild TensorFlow with the appropriate compiler flags.\n",
      "2022-12-02 04:25:17.237149: I tensorflow/stream_executor/cuda/cuda_gpu_executor.cc:937] successful NUMA node read from SysFS had negative value (-1), but there must be at least one NUMA node, so returning NUMA node zero\n",
      "2022-12-02 04:25:17.237863: I tensorflow/stream_executor/cuda/cuda_gpu_executor.cc:937] successful NUMA node read from SysFS had negative value (-1), but there must be at least one NUMA node, so returning NUMA node zero\n",
      "2022-12-02 04:25:17.238540: I tensorflow/stream_executor/cuda/cuda_gpu_executor.cc:937] successful NUMA node read from SysFS had negative value (-1), but there must be at least one NUMA node, so returning NUMA node zero\n",
      "2022-12-02 04:25:19.324014: I tensorflow/stream_executor/cuda/cuda_gpu_executor.cc:937] successful NUMA node read from SysFS had negative value (-1), but there must be at least one NUMA node, so returning NUMA node zero\n",
      "2022-12-02 04:25:19.324838: I tensorflow/stream_executor/cuda/cuda_gpu_executor.cc:937] successful NUMA node read from SysFS had negative value (-1), but there must be at least one NUMA node, so returning NUMA node zero\n",
      "2022-12-02 04:25:19.325541: I tensorflow/stream_executor/cuda/cuda_gpu_executor.cc:937] successful NUMA node read from SysFS had negative value (-1), but there must be at least one NUMA node, so returning NUMA node zero\n",
      "2022-12-02 04:25:19.326154: I tensorflow/core/common_runtime/gpu/gpu_device.cc:1510] Created device /job:localhost/replica:0/task:0/device:GPU:0 with 15401 MB memory:  -> device: 0, name: Tesla P100-PCIE-16GB, pci bus id: 0000:00:04.0, compute capability: 6.0\n"
     ]
    },
    {
     "name": "stdout",
     "output_type": "stream",
     "text": [
      "Downloading data from https://storage.googleapis.com/tensorflow/keras-applications/resnet/resnet50_weights_tf_dim_ordering_tf_kernels_notop.h5\n",
      "94773248/94765736 [==============================] - 0s 0us/step\n",
      "94781440/94765736 [==============================] - 0s 0us/step\n",
      "Model: \"sequential\"\n",
      "_________________________________________________________________\n",
      "Layer (type)                 Output Shape              Param #   \n",
      "=================================================================\n",
      "resnet50 (Functional)        (None, 7, 7, 2048)        23587712  \n",
      "_________________________________________________________________\n",
      "global_average_pooling2d (Gl (None, 2048)              0         \n",
      "_________________________________________________________________\n",
      "dense (Dense)                (None, 1)                 2049      \n",
      "=================================================================\n",
      "Total params: 23,589,761\n",
      "Trainable params: 23,536,641\n",
      "Non-trainable params: 53,120\n",
      "_________________________________________________________________\n"
     ]
    }
   ],
   "source": [
    "model = tf.keras.Sequential()\n",
    "resnet = tf.keras.applications.resnet50.ResNet50(include_top = False, input_shape=(224,224,3), weights='imagenet')\n",
    "model.add(resnet)\n",
    "model.add(tf.keras.layers.GlobalAveragePooling2D())\n",
    "model.add(tf.keras.layers.Dense(1, activation='sigmoid'))\n",
    "model.summary()"
   ]
  },
  {
   "cell_type": "code",
   "execution_count": 8,
   "id": "d5137d5f",
   "metadata": {
    "execution": {
     "iopub.execute_input": "2022-12-02T04:25:21.615078Z",
     "iopub.status.busy": "2022-12-02T04:25:21.614124Z",
     "iopub.status.idle": "2022-12-02T04:25:22.971268Z",
     "shell.execute_reply": "2022-12-02T04:25:22.970264Z"
    },
    "papermill": {
     "duration": 1.366226,
     "end_time": "2022-12-02T04:25:22.973888",
     "exception": false,
     "start_time": "2022-12-02T04:25:21.607662",
     "status": "completed"
    },
    "tags": []
   },
   "outputs": [
    {
     "name": "stderr",
     "output_type": "stream",
     "text": [
      "/opt/conda/lib/python3.7/site-packages/keras/utils/generic_utils.py:497: CustomMaskWarning: Custom mask layers require a config and must override get_config. When loading, the custom mask layer must be passed to the custom_objects argument.\n",
      "  category=CustomMaskWarning)\n"
     ]
    }
   ],
   "source": [
    "model1 = model\n",
    "model2 = tf.keras.models.clone_model(model1)"
   ]
  },
  {
   "cell_type": "code",
   "execution_count": 9,
   "id": "cd285ac8",
   "metadata": {
    "execution": {
     "iopub.execute_input": "2022-12-02T04:25:22.986814Z",
     "iopub.status.busy": "2022-12-02T04:25:22.986521Z",
     "iopub.status.idle": "2022-12-02T04:25:22.990789Z",
     "shell.execute_reply": "2022-12-02T04:25:22.989776Z"
    },
    "papermill": {
     "duration": 0.01273,
     "end_time": "2022-12-02T04:25:22.993181",
     "exception": false,
     "start_time": "2022-12-02T04:25:22.980451",
     "status": "completed"
    },
    "tags": []
   },
   "outputs": [],
   "source": [
    "# early stop\n",
    "earlyStop = tf.keras.callbacks.EarlyStopping(monitor='loss', patience=5)"
   ]
  },
  {
   "cell_type": "markdown",
   "id": "f7379550",
   "metadata": {
    "papermill": {
     "duration": 0.005027,
     "end_time": "2022-12-02T04:25:23.003260",
     "exception": false,
     "start_time": "2022-12-02T04:25:22.998233",
     "status": "completed"
    },
    "tags": []
   },
   "source": [
    "## Train Model 1"
   ]
  },
  {
   "cell_type": "code",
   "execution_count": 10,
   "id": "4818e0de",
   "metadata": {
    "execution": {
     "iopub.execute_input": "2022-12-02T04:25:23.014320Z",
     "iopub.status.busy": "2022-12-02T04:25:23.014059Z",
     "iopub.status.idle": "2022-12-02T05:51:37.250392Z",
     "shell.execute_reply": "2022-12-02T05:51:37.249379Z"
    },
    "papermill": {
     "duration": 5177.525087,
     "end_time": "2022-12-02T05:51:40.533317",
     "exception": false,
     "start_time": "2022-12-02T04:25:23.008230",
     "status": "completed"
    },
    "tags": []
   },
   "outputs": [
    {
     "name": "stderr",
     "output_type": "stream",
     "text": [
      "2022-12-02 04:25:23.033236: W tensorflow/core/framework/cpu_allocator_impl.cc:80] Allocation of 2433285120 exceeds 10% of free system memory.\n",
      "2022-12-02 04:25:25.792426: W tensorflow/core/framework/cpu_allocator_impl.cc:80] Allocation of 2433285120 exceeds 10% of free system memory.\n",
      "2022-12-02 04:25:27.760469: I tensorflow/compiler/mlir/mlir_graph_optimization_pass.cc:185] None of the MLIR Optimization Passes are enabled (registered 2)\n"
     ]
    },
    {
     "name": "stdout",
     "output_type": "stream",
     "text": [
      "Epoch 1/100\n"
     ]
    },
    {
     "name": "stderr",
     "output_type": "stream",
     "text": [
      "2022-12-02 04:25:33.869689: I tensorflow/stream_executor/cuda/cuda_dnn.cc:369] Loaded cuDNN version 8005\n"
     ]
    },
    {
     "name": "stdout",
     "output_type": "stream",
     "text": [
      "1011/1011 [==============================] - 116s 103ms/step - loss: 0.1763 - accuracy: 0.6364 - val_loss: 0.1824 - val_accuracy: 0.6466\n",
      "Epoch 2/100\n",
      "1011/1011 [==============================] - 103s 102ms/step - loss: 0.1520 - accuracy: 0.6220 - val_loss: 0.1503 - val_accuracy: 0.6622\n",
      "Epoch 3/100\n",
      "1011/1011 [==============================] - 103s 102ms/step - loss: 0.1528 - accuracy: 0.6474 - val_loss: 1.7179 - val_accuracy: 0.4769\n",
      "Epoch 4/100\n",
      "1011/1011 [==============================] - 103s 102ms/step - loss: 0.1407 - accuracy: 0.6763 - val_loss: 0.1829 - val_accuracy: 0.5320\n",
      "Epoch 5/100\n",
      "1011/1011 [==============================] - 103s 102ms/step - loss: 0.1352 - accuracy: 0.7049 - val_loss: 1.5424 - val_accuracy: 0.3372\n",
      "Epoch 6/100\n",
      "1011/1011 [==============================] - 103s 101ms/step - loss: 0.1236 - accuracy: 0.7538 - val_loss: 0.1282 - val_accuracy: 0.7563\n",
      "Epoch 7/100\n",
      "1011/1011 [==============================] - 103s 102ms/step - loss: 0.1034 - accuracy: 0.8150 - val_loss: 0.1069 - val_accuracy: 0.7724\n",
      "Epoch 8/100\n",
      "1011/1011 [==============================] - 103s 102ms/step - loss: 0.0731 - accuracy: 0.8757 - val_loss: 0.1031 - val_accuracy: 0.7396\n",
      "Epoch 9/100\n",
      "1011/1011 [==============================] - 103s 102ms/step - loss: 0.0551 - accuracy: 0.9078 - val_loss: 0.0479 - val_accuracy: 0.9171\n",
      "Epoch 10/100\n",
      "1011/1011 [==============================] - 103s 102ms/step - loss: 0.0462 - accuracy: 0.9248 - val_loss: 0.4139 - val_accuracy: 0.4307\n",
      "Epoch 11/100\n",
      "1011/1011 [==============================] - 103s 102ms/step - loss: 0.0368 - accuracy: 0.9399 - val_loss: 0.1148 - val_accuracy: 0.7730\n",
      "Epoch 12/100\n",
      "1011/1011 [==============================] - 102s 101ms/step - loss: 0.0339 - accuracy: 0.9445 - val_loss: 0.0642 - val_accuracy: 0.8692\n",
      "Epoch 13/100\n",
      "1011/1011 [==============================] - 103s 102ms/step - loss: 0.0302 - accuracy: 0.9537 - val_loss: 0.0756 - val_accuracy: 0.8982\n",
      "Epoch 14/100\n",
      "1011/1011 [==============================] - 103s 102ms/step - loss: 0.0247 - accuracy: 0.9599 - val_loss: 0.0358 - val_accuracy: 0.9438\n",
      "Epoch 15/100\n",
      "1011/1011 [==============================] - 103s 102ms/step - loss: 0.0211 - accuracy: 0.9668 - val_loss: 0.0450 - val_accuracy: 0.9232\n",
      "Epoch 16/100\n",
      "1011/1011 [==============================] - 103s 102ms/step - loss: 0.0199 - accuracy: 0.9694 - val_loss: 0.0751 - val_accuracy: 0.8737\n",
      "Epoch 17/100\n",
      "1011/1011 [==============================] - 103s 102ms/step - loss: 0.0182 - accuracy: 0.9709 - val_loss: 0.2438 - val_accuracy: 0.5704\n",
      "Epoch 18/100\n",
      "1011/1011 [==============================] - 105s 104ms/step - loss: 0.0140 - accuracy: 0.9780 - val_loss: 0.0446 - val_accuracy: 0.9277\n",
      "Epoch 19/100\n",
      "1011/1011 [==============================] - 105s 104ms/step - loss: 0.0136 - accuracy: 0.9793 - val_loss: 0.0601 - val_accuracy: 0.9327\n",
      "Epoch 20/100\n",
      "1011/1011 [==============================] - 103s 102ms/step - loss: 0.0107 - accuracy: 0.9842 - val_loss: 0.1205 - val_accuracy: 0.8581\n",
      "Epoch 21/100\n",
      "1011/1011 [==============================] - 103s 102ms/step - loss: 0.0113 - accuracy: 0.9832 - val_loss: 0.0700 - val_accuracy: 0.9232\n",
      "Epoch 22/100\n",
      "1011/1011 [==============================] - 103s 102ms/step - loss: 0.0094 - accuracy: 0.9853 - val_loss: 0.0740 - val_accuracy: 0.8798\n",
      "Epoch 23/100\n",
      "1011/1011 [==============================] - 103s 102ms/step - loss: 0.0093 - accuracy: 0.9873 - val_loss: 0.0432 - val_accuracy: 0.9444\n",
      "Epoch 24/100\n",
      "1011/1011 [==============================] - 103s 102ms/step - loss: 0.0083 - accuracy: 0.9878 - val_loss: 0.1146 - val_accuracy: 0.9060\n",
      "Epoch 25/100\n",
      "1011/1011 [==============================] - 103s 102ms/step - loss: 0.0081 - accuracy: 0.9896 - val_loss: 0.0538 - val_accuracy: 0.9310\n",
      "Epoch 26/100\n",
      "1011/1011 [==============================] - 105s 104ms/step - loss: 0.0070 - accuracy: 0.9900 - val_loss: 0.2825 - val_accuracy: 0.5420\n",
      "Epoch 27/100\n",
      "1011/1011 [==============================] - 105s 103ms/step - loss: 0.0083 - accuracy: 0.9870 - val_loss: 0.2140 - val_accuracy: 0.8564\n",
      "Epoch 28/100\n",
      "1011/1011 [==============================] - 103s 102ms/step - loss: 0.0055 - accuracy: 0.9920 - val_loss: 0.1060 - val_accuracy: 0.8219\n",
      "Epoch 29/100\n",
      "1011/1011 [==============================] - 103s 102ms/step - loss: 0.0088 - accuracy: 0.9877 - val_loss: 0.0506 - val_accuracy: 0.9277\n",
      "Epoch 30/100\n",
      "1011/1011 [==============================] - 103s 102ms/step - loss: 0.0045 - accuracy: 0.9937 - val_loss: 0.0686 - val_accuracy: 0.9043\n",
      "Epoch 31/100\n",
      "1011/1011 [==============================] - 105s 104ms/step - loss: 0.0048 - accuracy: 0.9929 - val_loss: 0.0624 - val_accuracy: 0.9366\n",
      "Epoch 32/100\n",
      "1011/1011 [==============================] - 103s 102ms/step - loss: 0.0062 - accuracy: 0.9916 - val_loss: 0.1047 - val_accuracy: 0.8898\n",
      "Epoch 33/100\n",
      "1011/1011 [==============================] - 103s 102ms/step - loss: 0.0052 - accuracy: 0.9925 - val_loss: 0.0498 - val_accuracy: 0.9488\n",
      "Epoch 34/100\n",
      "1011/1011 [==============================] - 103s 102ms/step - loss: 0.0035 - accuracy: 0.9951 - val_loss: 0.0686 - val_accuracy: 0.9132\n",
      "Epoch 35/100\n",
      "1011/1011 [==============================] - 103s 102ms/step - loss: 0.0069 - accuracy: 0.9905 - val_loss: 0.2064 - val_accuracy: 0.7858\n",
      "Epoch 36/100\n",
      "1011/1011 [==============================] - 103s 102ms/step - loss: 0.0048 - accuracy: 0.9931 - val_loss: 0.0431 - val_accuracy: 0.9555\n",
      "Epoch 37/100\n",
      "1011/1011 [==============================] - 103s 102ms/step - loss: 0.0033 - accuracy: 0.9960 - val_loss: 0.0669 - val_accuracy: 0.9026\n",
      "Epoch 38/100\n",
      "1011/1011 [==============================] - 103s 102ms/step - loss: 0.0026 - accuracy: 0.9968 - val_loss: 0.1903 - val_accuracy: 0.6939\n",
      "Epoch 39/100\n",
      "1011/1011 [==============================] - 103s 102ms/step - loss: 0.0066 - accuracy: 0.9907 - val_loss: 0.1627 - val_accuracy: 0.8971\n",
      "Epoch 40/100\n",
      "1011/1011 [==============================] - 103s 102ms/step - loss: 0.0023 - accuracy: 0.9968 - val_loss: 0.0491 - val_accuracy: 0.9533\n",
      "Epoch 41/100\n",
      "1011/1011 [==============================] - 105s 104ms/step - loss: 0.0057 - accuracy: 0.9924 - val_loss: 0.0586 - val_accuracy: 0.9499\n",
      "Epoch 42/100\n",
      "1011/1011 [==============================] - 105s 104ms/step - loss: 0.0032 - accuracy: 0.9960 - val_loss: 0.0854 - val_accuracy: 0.9204\n",
      "Epoch 43/100\n",
      "1011/1011 [==============================] - 103s 102ms/step - loss: 0.0019 - accuracy: 0.9973 - val_loss: 0.0891 - val_accuracy: 0.9071\n",
      "Epoch 44/100\n",
      "1011/1011 [==============================] - 103s 102ms/step - loss: 0.0082 - accuracy: 0.9901 - val_loss: 0.0594 - val_accuracy: 0.9299\n",
      "Epoch 45/100\n",
      "1011/1011 [==============================] - 103s 102ms/step - loss: 6.4358e-04 - accuracy: 0.9993 - val_loss: 0.0646 - val_accuracy: 0.9566\n",
      "Epoch 46/100\n",
      "1011/1011 [==============================] - 103s 102ms/step - loss: 0.0047 - accuracy: 0.9940 - val_loss: 0.0692 - val_accuracy: 0.9226\n",
      "Epoch 47/100\n",
      "1011/1011 [==============================] - 103s 102ms/step - loss: 0.0032 - accuracy: 0.9956 - val_loss: 0.0954 - val_accuracy: 0.9210\n",
      "Epoch 48/100\n",
      "1011/1011 [==============================] - 103s 102ms/step - loss: 0.0023 - accuracy: 0.9960 - val_loss: 0.0785 - val_accuracy: 0.9293\n",
      "Epoch 49/100\n",
      "1011/1011 [==============================] - 103s 102ms/step - loss: 0.0046 - accuracy: 0.9938 - val_loss: 0.0546 - val_accuracy: 0.9488\n",
      "Epoch 50/100\n",
      "1011/1011 [==============================] - 103s 102ms/step - loss: 0.0039 - accuracy: 0.9949 - val_loss: 0.0691 - val_accuracy: 0.9176\n"
     ]
    }
   ],
   "source": [
    "model1.compile(optimizer='adam',loss=tfa.losses.SigmoidFocalCrossEntropy(alpha=.4, gamma=1.0), metrics=['accuracy'])\n",
    "history1 = model1.fit(x_train, y_train, epochs=100, validation_data=(x_test, y_test), batch_size=16, callbacks=[earlyStop])"
   ]
  },
  {
   "cell_type": "code",
   "execution_count": 11,
   "id": "8ad48f50",
   "metadata": {
    "execution": {
     "iopub.execute_input": "2022-12-02T05:51:46.740142Z",
     "iopub.status.busy": "2022-12-02T05:51:46.739767Z",
     "iopub.status.idle": "2022-12-02T05:51:55.125184Z",
     "shell.execute_reply": "2022-12-02T05:51:55.124297Z"
    },
    "papermill": {
     "duration": 11.673485,
     "end_time": "2022-12-02T05:51:55.127181",
     "exception": false,
     "start_time": "2022-12-02T05:51:43.453696",
     "status": "completed"
    },
    "tags": []
   },
   "outputs": [
    {
     "data": {
      "text/plain": [
       "<matplotlib.legend.Legend at 0x7f300c27fc50>"
      ]
     },
     "execution_count": 11,
     "metadata": {},
     "output_type": "execute_result"
    },
    {
     "data": {
      "image/png": "[encoded data removed]",
      "text/plain": [
       "<Figure size 432x288 with 1 Axes>"
      ]
     },
     "metadata": {
      "needs_background": "light"
     },
     "output_type": "display_data"
    }
   ],
   "source": [
    "plt.plot(history1.history['accuracy'], label='training')\n",
    "plt.plot(history1.history['val_accuracy'], label = 'testing')\n",
    "plt.xlabel('Epoch')\n",
    "plt.ylabel('Accuracy')\n",
    "plt.ylim([0, 1])\n",
    "plt.legend(loc='lower right')"
   ]
  },
  {
   "cell_type": "code",
   "execution_count": 12,
   "id": "04ca1e86",
   "metadata": {
    "execution": {
     "iopub.execute_input": "2022-12-02T05:52:00.992165Z",
     "iopub.status.busy": "2022-12-02T05:52:00.991794Z",
     "iopub.status.idle": "2022-12-02T05:52:30.227089Z",
     "shell.execute_reply": "2022-12-02T05:52:30.226034Z"
    },
    "papermill": {
     "duration": 32.035867,
     "end_time": "2022-12-02T05:52:30.229921",
     "exception": false,
     "start_time": "2022-12-02T05:51:58.194054",
     "status": "completed"
    },
    "tags": []
   },
   "outputs": [
    {
     "name": "stderr",
     "output_type": "stream",
     "text": [
      "2022-12-02 05:52:11.486376: W tensorflow/python/util/util.cc:348] Sets are not currently considered sequences, but this may change in the future, so consider avoiding using them.\n",
      "/opt/conda/lib/python3.7/site-packages/keras/utils/generic_utils.py:497: CustomMaskWarning: Custom mask layers require a config and must override get_config. When loading, the custom mask layer must be passed to the custom_objects argument.\n",
      "  category=CustomMaskWarning)\n"
     ]
    }
   ],
   "source": [
    "model1.save(\"resnet50-SigmoidFocalCrossEntropy\")"
   ]
  },
  {
   "attachments": {},
   "cell_type": "markdown",
   "id": "f35f52bc",
   "metadata": {},
   "source": [
    "## Train Model 2"
   ]
  },
  {
   "cell_type": "code",
   "execution_count": 13,
   "id": "11032f45",
   "metadata": {
    "execution": {
     "iopub.execute_input": "2022-12-02T05:52:35.913344Z",
     "iopub.status.busy": "2022-12-02T05:52:35.912968Z",
     "iopub.status.idle": "2022-12-02T07:56:48.763491Z",
     "shell.execute_reply": "2022-12-02T07:56:48.762435Z"
    },
    "papermill": {
     "duration": 7463.288203,
     "end_time": "2022-12-02T07:56:56.397146",
     "exception": false,
     "start_time": "2022-12-02T05:52:33.108943",
     "status": "completed"
    },
    "tags": []
   },
   "outputs": [
    {
     "name": "stderr",
     "output_type": "stream",
     "text": [
      "2022-12-02 05:52:35.927942: W tensorflow/core/framework/cpu_allocator_impl.cc:80] Allocation of 2433285120 exceeds 10% of free system memory.\n",
      "2022-12-02 05:52:38.552292: W tensorflow/core/framework/cpu_allocator_impl.cc:80] Allocation of 2433285120 exceeds 10% of free system memory.\n"
     ]
    },
    {
     "name": "stdout",
     "output_type": "stream",
     "text": [
      "Epoch 1/100\n",
      "1011/1011 [==============================] - 110s 103ms/step - loss: 0.6637 - accuracy: 0.6528 - val_loss: 0.6779 - val_accuracy: 0.5242\n",
      "Epoch 2/100\n",
      "1011/1011 [==============================] - 103s 102ms/step - loss: 0.6121 - accuracy: 0.6669 - val_loss: 6.4499 - val_accuracy: 0.4919\n",
      "Epoch 3/100\n",
      "1011/1011 [==============================] - 103s 102ms/step - loss: 0.6189 - accuracy: 0.6616 - val_loss: 0.6189 - val_accuracy: 0.6761\n",
      "Epoch 4/100\n",
      "1011/1011 [==============================] - 103s 102ms/step - loss: 0.5969 - accuracy: 0.6727 - val_loss: 2.1418 - val_accuracy: 0.5019\n",
      "Epoch 5/100\n",
      "1011/1011 [==============================] - 103s 102ms/step - loss: 0.5911 - accuracy: 0.6819 - val_loss: 0.6265 - val_accuracy: 0.6850\n",
      "Epoch 6/100\n",
      "1011/1011 [==============================] - 103s 102ms/step - loss: 0.5816 - accuracy: 0.6888 - val_loss: 0.6709 - val_accuracy: 0.6505\n",
      "Epoch 7/100\n",
      "1011/1011 [==============================] - 103s 102ms/step - loss: 0.5429 - accuracy: 0.7172 - val_loss: 1.0056 - val_accuracy: 0.6750\n",
      "Epoch 8/100\n",
      "1011/1011 [==============================] - 103s 102ms/step - loss: 0.5236 - accuracy: 0.7311 - val_loss: 1.5300 - val_accuracy: 0.3617\n",
      "Epoch 9/100\n",
      "1011/1011 [==============================] - 105s 104ms/step - loss: 0.4919 - accuracy: 0.7584 - val_loss: 0.4833 - val_accuracy: 0.7685\n",
      "Epoch 10/100\n",
      "1011/1011 [==============================] - 103s 102ms/step - loss: 0.4674 - accuracy: 0.7735 - val_loss: 0.4746 - val_accuracy: 0.7590\n",
      "Epoch 11/100\n",
      "1011/1011 [==============================] - 103s 102ms/step - loss: 0.4332 - accuracy: 0.7987 - val_loss: 0.5059 - val_accuracy: 0.7462\n",
      "Epoch 12/100\n",
      "1011/1011 [==============================] - 103s 102ms/step - loss: 0.3973 - accuracy: 0.8190 - val_loss: 0.4321 - val_accuracy: 0.8052\n",
      "Epoch 13/100\n",
      "1011/1011 [==============================] - 104s 102ms/step - loss: 0.3512 - accuracy: 0.8460 - val_loss: 0.3560 - val_accuracy: 0.8453\n",
      "Epoch 14/100\n",
      "1011/1011 [==============================] - 103s 102ms/step - loss: 0.3200 - accuracy: 0.8613 - val_loss: 0.3492 - val_accuracy: 0.8386\n",
      "Epoch 15/100\n",
      "1011/1011 [==============================] - 104s 103ms/step - loss: 0.2878 - accuracy: 0.8768 - val_loss: 0.3053 - val_accuracy: 0.8603\n",
      "Epoch 16/100\n",
      "1011/1011 [==============================] - 103s 102ms/step - loss: 0.2638 - accuracy: 0.8890 - val_loss: 0.3029 - val_accuracy: 0.8648\n",
      "Epoch 17/100\n",
      "1011/1011 [==============================] - 103s 102ms/step - loss: 0.2362 - accuracy: 0.9019 - val_loss: 0.4454 - val_accuracy: 0.8214\n",
      "Epoch 18/100\n",
      "1011/1011 [==============================] - 103s 102ms/step - loss: 0.2152 - accuracy: 0.9123 - val_loss: 0.2625 - val_accuracy: 0.8893\n",
      "Epoch 19/100\n",
      "1011/1011 [==============================] - 103s 102ms/step - loss: 0.1970 - accuracy: 0.9174 - val_loss: 0.2490 - val_accuracy: 0.8954\n",
      "Epoch 20/100\n",
      "1011/1011 [==============================] - 104s 102ms/step - loss: 0.1769 - accuracy: 0.9276 - val_loss: 0.3749 - val_accuracy: 0.8525\n",
      "Epoch 21/100\n",
      "1011/1011 [==============================] - 103s 102ms/step - loss: 0.1627 - accuracy: 0.9342 - val_loss: 0.1851 - val_accuracy: 0.9226\n",
      "Epoch 22/100\n",
      "1011/1011 [==============================] - 103s 102ms/step - loss: 0.1396 - accuracy: 0.9443 - val_loss: 0.2426 - val_accuracy: 0.8971\n",
      "Epoch 23/100\n",
      "1011/1011 [==============================] - 103s 102ms/step - loss: 0.1267 - accuracy: 0.9508 - val_loss: 0.4725 - val_accuracy: 0.8269\n",
      "Epoch 24/100\n",
      "1011/1011 [==============================] - 104s 103ms/step - loss: 0.1134 - accuracy: 0.9559 - val_loss: 0.1954 - val_accuracy: 0.9215\n",
      "Epoch 25/100\n",
      "1011/1011 [==============================] - 103s 102ms/step - loss: 0.1017 - accuracy: 0.9609 - val_loss: 0.3066 - val_accuracy: 0.9060\n",
      "Epoch 26/100\n",
      "1011/1011 [==============================] - 104s 102ms/step - loss: 0.0916 - accuracy: 0.9636 - val_loss: 0.2070 - val_accuracy: 0.9265\n",
      "Epoch 27/100\n",
      "1011/1011 [==============================] - 103s 102ms/step - loss: 0.0792 - accuracy: 0.9687 - val_loss: 0.2603 - val_accuracy: 0.9043\n",
      "Epoch 28/100\n",
      "1011/1011 [==============================] - 104s 103ms/step - loss: 0.0670 - accuracy: 0.9741 - val_loss: 0.2324 - val_accuracy: 0.9249\n",
      "Epoch 29/100\n",
      "1011/1011 [==============================] - 104s 102ms/step - loss: 0.0634 - accuracy: 0.9772 - val_loss: 0.3070 - val_accuracy: 0.8932\n",
      "Epoch 30/100\n",
      "1011/1011 [==============================] - 104s 102ms/step - loss: 0.0571 - accuracy: 0.9767 - val_loss: 0.3238 - val_accuracy: 0.8987\n",
      "Epoch 31/100\n",
      "1011/1011 [==============================] - 103s 102ms/step - loss: 0.0541 - accuracy: 0.9809 - val_loss: 0.6446 - val_accuracy: 0.7613\n",
      "Epoch 32/100\n",
      "1011/1011 [==============================] - 103s 102ms/step - loss: 0.0507 - accuracy: 0.9805 - val_loss: 0.3565 - val_accuracy: 0.8798\n",
      "Epoch 33/100\n",
      "1011/1011 [==============================] - 103s 102ms/step - loss: 0.0421 - accuracy: 0.9846 - val_loss: 0.2525 - val_accuracy: 0.9282\n",
      "Epoch 34/100\n",
      "1011/1011 [==============================] - 103s 102ms/step - loss: 0.0469 - accuracy: 0.9820 - val_loss: 0.3882 - val_accuracy: 0.9021\n",
      "Epoch 35/100\n",
      "1011/1011 [==============================] - 103s 102ms/step - loss: 0.0427 - accuracy: 0.9834 - val_loss: 0.2366 - val_accuracy: 0.9299\n",
      "Epoch 36/100\n",
      "1011/1011 [==============================] - 103s 102ms/step - loss: 0.0316 - accuracy: 0.9894 - val_loss: 0.4660 - val_accuracy: 0.8609\n",
      "Epoch 37/100\n",
      "1011/1011 [==============================] - 103s 102ms/step - loss: 0.0389 - accuracy: 0.9868 - val_loss: 0.3648 - val_accuracy: 0.8859\n",
      "Epoch 38/100\n",
      "1011/1011 [==============================] - 104s 102ms/step - loss: 0.0401 - accuracy: 0.9857 - val_loss: 0.2594 - val_accuracy: 0.9288\n",
      "Epoch 39/100\n",
      "1011/1011 [==============================] - 103s 102ms/step - loss: 0.0278 - accuracy: 0.9905 - val_loss: 0.2783 - val_accuracy: 0.9304\n",
      "Epoch 40/100\n",
      "1011/1011 [==============================] - 103s 102ms/step - loss: 0.0295 - accuracy: 0.9892 - val_loss: 0.3550 - val_accuracy: 0.9071\n",
      "Epoch 41/100\n",
      "1011/1011 [==============================] - 103s 102ms/step - loss: 0.0360 - accuracy: 0.9868 - val_loss: 0.2363 - val_accuracy: 0.9382\n",
      "Epoch 42/100\n",
      "1011/1011 [==============================] - 103s 102ms/step - loss: 0.0243 - accuracy: 0.9916 - val_loss: 0.3679 - val_accuracy: 0.8909\n",
      "Epoch 43/100\n",
      "1011/1011 [==============================] - 103s 102ms/step - loss: 0.0282 - accuracy: 0.9887 - val_loss: 0.2683 - val_accuracy: 0.9299\n",
      "Epoch 44/100\n",
      "1011/1011 [==============================] - 103s 102ms/step - loss: 0.0250 - accuracy: 0.9917 - val_loss: 0.5151 - val_accuracy: 0.8475\n",
      "Epoch 45/100\n",
      "1011/1011 [==============================] - 103s 102ms/step - loss: 0.0224 - accuracy: 0.9916 - val_loss: 0.2774 - val_accuracy: 0.9327\n",
      "Epoch 46/100\n",
      "1011/1011 [==============================] - 104s 102ms/step - loss: 0.0287 - accuracy: 0.9894 - val_loss: 0.2738 - val_accuracy: 0.9366\n",
      "Epoch 47/100\n",
      "1011/1011 [==============================] - 103s 102ms/step - loss: 0.0217 - accuracy: 0.9931 - val_loss: 0.3866 - val_accuracy: 0.9204\n",
      "Epoch 48/100\n",
      "1011/1011 [==============================] - 103s 102ms/step - loss: 0.0207 - accuracy: 0.9929 - val_loss: 0.4353 - val_accuracy: 0.8776\n",
      "Epoch 49/100\n",
      "1011/1011 [==============================] - 103s 102ms/step - loss: 0.0256 - accuracy: 0.9912 - val_loss: 0.7837 - val_accuracy: 0.8331\n",
      "Epoch 50/100\n",
      "1011/1011 [==============================] - 103s 102ms/step - loss: 0.0193 - accuracy: 0.9928 - val_loss: 0.2686 - val_accuracy: 0.9393\n",
      "Epoch 51/100\n",
      "1011/1011 [==============================] - 103s 102ms/step - loss: 0.0200 - accuracy: 0.9929 - val_loss: 0.3316 - val_accuracy: 0.9182\n",
      "Epoch 52/100\n",
      "1011/1011 [==============================] - 103s 102ms/step - loss: 0.0223 - accuracy: 0.9925 - val_loss: 0.3034 - val_accuracy: 0.9210\n",
      "Epoch 53/100\n",
      "1011/1011 [==============================] - 103s 102ms/step - loss: 0.0160 - accuracy: 0.9943 - val_loss: 0.2844 - val_accuracy: 0.9343\n",
      "Epoch 54/100\n",
      "1011/1011 [==============================] - 103s 102ms/step - loss: 0.0211 - accuracy: 0.9931 - val_loss: 0.2991 - val_accuracy: 0.9243\n",
      "Epoch 55/100\n",
      "1011/1011 [==============================] - 103s 102ms/step - loss: 0.0182 - accuracy: 0.9936 - val_loss: 0.4078 - val_accuracy: 0.9076\n",
      "Epoch 56/100\n",
      "1011/1011 [==============================] - 103s 102ms/step - loss: 0.0187 - accuracy: 0.9934 - val_loss: 0.3417 - val_accuracy: 0.9377\n",
      "Epoch 57/100\n",
      "1011/1011 [==============================] - 103s 102ms/step - loss: 0.0196 - accuracy: 0.9933 - val_loss: 0.3240 - val_accuracy: 0.9193\n",
      "Epoch 58/100\n",
      "1011/1011 [==============================] - 104s 102ms/step - loss: 0.0155 - accuracy: 0.9947 - val_loss: 0.4884 - val_accuracy: 0.9199\n",
      "Epoch 59/100\n",
      "1011/1011 [==============================] - 103s 102ms/step - loss: 0.0152 - accuracy: 0.9943 - val_loss: 0.2750 - val_accuracy: 0.9299\n",
      "Epoch 60/100\n",
      "1011/1011 [==============================] - 103s 102ms/step - loss: 0.0181 - accuracy: 0.9933 - val_loss: 0.3146 - val_accuracy: 0.9321\n",
      "Epoch 61/100\n",
      "1011/1011 [==============================] - 103s 102ms/step - loss: 0.0113 - accuracy: 0.9964 - val_loss: 0.4921 - val_accuracy: 0.9204\n",
      "Epoch 62/100\n",
      "1011/1011 [==============================] - 104s 102ms/step - loss: 0.0153 - accuracy: 0.9952 - val_loss: 0.3801 - val_accuracy: 0.9137\n",
      "Epoch 63/100\n",
      "1011/1011 [==============================] - 103s 102ms/step - loss: 0.0110 - accuracy: 0.9964 - val_loss: 0.3140 - val_accuracy: 0.9382\n",
      "Epoch 64/100\n",
      "1011/1011 [==============================] - 104s 102ms/step - loss: 0.0209 - accuracy: 0.9932 - val_loss: 0.3128 - val_accuracy: 0.9332\n",
      "Epoch 65/100\n",
      "1011/1011 [==============================] - 103s 102ms/step - loss: 0.0123 - accuracy: 0.9957 - val_loss: 0.3070 - val_accuracy: 0.9143\n",
      "Epoch 66/100\n",
      "1011/1011 [==============================] - 104s 103ms/step - loss: 0.0163 - accuracy: 0.9942 - val_loss: 0.3421 - val_accuracy: 0.9265\n",
      "Epoch 67/100\n",
      "1011/1011 [==============================] - 103s 102ms/step - loss: 0.0046 - accuracy: 0.9985 - val_loss: 0.3263 - val_accuracy: 0.9427\n",
      "Epoch 68/100\n",
      "1011/1011 [==============================] - 104s 103ms/step - loss: 0.0117 - accuracy: 0.9964 - val_loss: 0.3701 - val_accuracy: 0.9110\n",
      "Epoch 69/100\n",
      "1011/1011 [==============================] - 103s 102ms/step - loss: 0.0216 - accuracy: 0.9931 - val_loss: 0.5096 - val_accuracy: 0.9193\n",
      "Epoch 70/100\n",
      "1011/1011 [==============================] - 104s 102ms/step - loss: 0.0112 - accuracy: 0.9964 - val_loss: 0.2840 - val_accuracy: 0.9304\n",
      "Epoch 71/100\n",
      "1011/1011 [==============================] - 103s 102ms/step - loss: 0.0114 - accuracy: 0.9967 - val_loss: 0.3948 - val_accuracy: 0.9210\n",
      "Epoch 72/100\n",
      "1011/1011 [==============================] - 103s 102ms/step - loss: 0.0118 - accuracy: 0.9961 - val_loss: 0.2221 - val_accuracy: 0.9449\n"
     ]
    }
   ],
   "source": [
    "model2.compile(optimizer='adam',loss=tf.keras.losses.BinaryCrossentropy(), metrics=['accuracy'])\n",
    "history2 = model2.fit(x_train, y_train, epochs=100, validation_data=(x_test, y_test), batch_size=16, callbacks=[earlyStop])"
   ]
  },
  {
   "cell_type": "code",
   "execution_count": 14,
   "id": "449928f1",
   "metadata": {
    "execution": {
     "iopub.execute_input": "2022-12-02T07:57:10.638160Z",
     "iopub.status.busy": "2022-12-02T07:57:10.637760Z",
     "iopub.status.idle": "2022-12-02T07:58:07.974866Z",
     "shell.execute_reply": "2022-12-02T07:58:07.973895Z"
    },
    "papermill": {
     "duration": 64.550129,
     "end_time": "2022-12-02T07:58:07.977057",
     "exception": false,
     "start_time": "2022-12-02T07:57:03.426928",
     "status": "completed"
    },
    "tags": []
   },
   "outputs": [
    {
     "data": {
      "text/plain": [
       "<matplotlib.legend.Legend at 0x7f30c94e69d0>"
      ]
     },
     "execution_count": 14,
     "metadata": {},
     "output_type": "execute_result"
    },
    {
     "data": {
      "image/png": "[encoded data removed]",
      "text/plain": [
       "<Figure size 432x288 with 1 Axes>"
      ]
     },
     "metadata": {
      "needs_background": "light"
     },
     "output_type": "display_data"
    }
   ],
   "source": [
    "plt.plot(history2.history['accuracy'], label='training')\n",
    "plt.plot(history2.history['val_accuracy'], label = 'testing')\n",
    "plt.xlabel('Epoch')\n",
    "plt.ylabel('Accuracy')\n",
    "plt.ylim([0, 1])\n",
    "plt.legend(loc='lower right')"
   ]
  },
  {
   "cell_type": "code",
   "execution_count": 15,
   "id": "5a36ad71",
   "metadata": {
    "execution": {
     "iopub.execute_input": "2022-12-02T07:58:22.551056Z",
     "iopub.status.busy": "2022-12-02T07:58:22.550677Z",
     "iopub.status.idle": "2022-12-02T07:58:52.833369Z",
     "shell.execute_reply": "2022-12-02T07:58:52.832312Z"
    },
    "papermill": {
     "duration": 37.341072,
     "end_time": "2022-12-02T07:58:52.837746",
     "exception": false,
     "start_time": "2022-12-02T07:58:15.496674",
     "status": "completed"
    },
    "tags": []
   },
   "outputs": [
    {
     "name": "stderr",
     "output_type": "stream",
     "text": [
      "/opt/conda/lib/python3.7/site-packages/keras/utils/generic_utils.py:497: CustomMaskWarning: Custom mask layers require a config and must override get_config. When loading, the custom mask layer must be passed to the custom_objects argument.\n",
      "  category=CustomMaskWarning)\n"
     ]
    }
   ],
   "source": [
    "model2.save(\"resnet50-BinaryCrossEntrop\")"
   ]
  }
 ],
 "metadata": {
  "kernelspec": {
   "display_name": "Python 3.10.8 64-bit (microsoft store)",
   "language": "python",
   "name": "python3"
  },
  "language_info": {
   "codemirror_mode": {
    "name": "ipython",
    "version": 3
   },
   "file_extension": ".py",
   "mimetype": "text/x-python",
   "name": "python",
   "nbconvert_exporter": "python",
   "pygments_lexer": "ipython3",
   "version": "3.10.8"
  },
  "papermill": {
   "default_parameters": {},
   "duration": 12972.140508,
   "end_time": "2022-12-02T07:59:04.051232",
   "environment_variables": {},
   "exception": null,
   "input_path": "__notebook__.ipynb",
   "output_path": "__notebook__.ipynb",
   "parameters": {},
   "start_time": "2022-12-02T04:22:51.910724",
   "version": "2.3.4"
  },
  "vscode": {
   "interpreter": {
    "hash": "746837a0d67133383485e8b29f9dc7f02aa8819eb44cbf6d2d204e2408f04731"
   }
  }
 },
 "nbformat": 4,
 "nbformat_minor": 5
}
